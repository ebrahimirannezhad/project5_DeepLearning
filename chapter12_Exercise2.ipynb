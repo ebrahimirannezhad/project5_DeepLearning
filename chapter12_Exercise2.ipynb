{
  "nbformat": 4,
  "nbformat_minor": 0,
  "metadata": {
    "colab": {
      "provenance": []
    },
    "kernelspec": {
      "name": "python3",
      "display_name": "Python 3"
    },
    "language_info": {
      "name": "python"
    }
  },
  "cells": [
    {
      "cell_type": "code",
      "execution_count": 1,
      "metadata": {
        "colab": {
          "base_uri": "https://localhost:8080/"
        },
        "id": "lxqt4mfh2EQj",
        "outputId": "18779a57-02b9-4e7a-eb7e-a5404687b8cb"
      },
      "outputs": [
        {
          "output_type": "stream",
          "name": "stdout",
          "text": [
            "Downloading data from https://storage.googleapis.com/tensorflow/tf-keras-datasets/train-labels-idx1-ubyte.gz\n",
            "29515/29515 [==============================] - 0s 0us/step\n",
            "Downloading data from https://storage.googleapis.com/tensorflow/tf-keras-datasets/train-images-idx3-ubyte.gz\n",
            "26421880/26421880 [==============================] - 0s 0us/step\n",
            "Downloading data from https://storage.googleapis.com/tensorflow/tf-keras-datasets/t10k-labels-idx1-ubyte.gz\n",
            "5148/5148 [==============================] - 0s 0us/step\n",
            "Downloading data from https://storage.googleapis.com/tensorflow/tf-keras-datasets/t10k-images-idx3-ubyte.gz\n",
            "4422102/4422102 [==============================] - 0s 0us/step\n",
            "Model: \"sequential\"\n",
            "_________________________________________________________________\n",
            " Layer (type)                Output Shape              Param #   \n",
            "=================================================================\n",
            " conv2d (Conv2D)             (None, 26, 26, 32)        320       \n",
            "                                                                 \n",
            " max_pooling2d (MaxPooling2D  (None, 13, 13, 32)       0         \n",
            " )                                                               \n",
            "                                                                 \n",
            " conv2d_1 (Conv2D)           (None, 11, 11, 64)        18496     \n",
            "                                                                 \n",
            " max_pooling2d_1 (MaxPooling  (None, 5, 5, 64)         0         \n",
            " 2D)                                                             \n",
            "                                                                 \n",
            " conv2d_2 (Conv2D)           (None, 3, 3, 128)         73856     \n",
            "                                                                 \n",
            " flatten (Flatten)           (None, 1152)              0         \n",
            "                                                                 \n",
            " dropout (Dropout)           (None, 1152)              0         \n",
            "                                                                 \n",
            " dense (Dense)               (None, 64)                73792     \n",
            "                                                                 \n",
            " dense_1 (Dense)             (None, 10)                650       \n",
            "                                                                 \n",
            "=================================================================\n",
            "Total params: 167,114\n",
            "Trainable params: 167,114\n",
            "Non-trainable params: 0\n",
            "_________________________________________________________________\n",
            "Epoch 1/20\n",
            "1875/1875 [==============================] - 45s 23ms/step - loss: 0.5349 - accuracy: 0.8026 - val_loss: 0.3670 - val_accuracy: 0.8662\n",
            "Epoch 2/20\n",
            "1875/1875 [==============================] - 43s 23ms/step - loss: 0.3495 - accuracy: 0.8718 - val_loss: 0.3124 - val_accuracy: 0.8861\n",
            "Epoch 3/20\n",
            "1875/1875 [==============================] - 43s 23ms/step - loss: 0.3041 - accuracy: 0.8880 - val_loss: 0.2917 - val_accuracy: 0.8927\n",
            "Epoch 4/20\n",
            "1875/1875 [==============================] - 42s 22ms/step - loss: 0.2763 - accuracy: 0.8978 - val_loss: 0.2708 - val_accuracy: 0.9023\n",
            "Epoch 5/20\n",
            "1875/1875 [==============================] - 42s 23ms/step - loss: 0.2584 - accuracy: 0.9034 - val_loss: 0.2708 - val_accuracy: 0.8999\n",
            "Epoch 6/20\n",
            "1875/1875 [==============================] - 42s 22ms/step - loss: 0.2424 - accuracy: 0.9101 - val_loss: 0.2503 - val_accuracy: 0.9082\n",
            "Epoch 7/20\n",
            "1875/1875 [==============================] - 42s 23ms/step - loss: 0.2321 - accuracy: 0.9130 - val_loss: 0.2526 - val_accuracy: 0.9096\n",
            "Epoch 8/20\n",
            "1875/1875 [==============================] - 42s 22ms/step - loss: 0.2174 - accuracy: 0.9175 - val_loss: 0.2513 - val_accuracy: 0.9099\n",
            "Epoch 9/20\n",
            "1875/1875 [==============================] - 42s 23ms/step - loss: 0.2102 - accuracy: 0.9208 - val_loss: 0.2552 - val_accuracy: 0.9057\n",
            "313/313 - 2s - loss: 0.2552 - accuracy: 0.9057 - 2s/epoch - 5ms/step\n",
            "دقت روی مجموعه آزمایشی: 0.9057000279426575\n"
          ]
        }
      ],
      "source": [
        "import tensorflow as tf\n",
        "from tensorflow.keras import datasets, layers, models, losses, callbacks\n",
        "from tensorflow.keras.preprocessing.image import ImageDataGenerator\n",
        "\n",
        "# بارگیری مجموعه داده Fashion MNIST\n",
        "(train_images, train_labels), (test_images, test_labels) = datasets.fashion_mnist.load_data()\n",
        "\n",
        "# نرمال‌سازی مقادیر پیکسل\n",
        "train_images = train_images / 255.0\n",
        "test_images = test_images / 255.0\n",
        "\n",
        "# تغییر شکل تصاویر برای سازگاری با مدل CNN\n",
        "train_images = train_images.reshape((train_images.shape[0], 28, 28, 1))\n",
        "test_images = test_images.reshape((test_images.shape[0], 28, 28, 1))\n",
        "\n",
        "# تعریف معماری مدل CNN\n",
        "model = models.Sequential()\n",
        "model.add(layers.Conv2D(32, (3, 3), activation='relu', input_shape=(28, 28, 1)))\n",
        "model.add(layers.MaxPooling2D((2, 2)))\n",
        "model.add(layers.Conv2D(64, (3, 3), activation='relu'))\n",
        "model.add(layers.MaxPooling2D((2, 2)))\n",
        "model.add(layers.Conv2D(128, (3, 3), activation='relu'))\n",
        "model.add(layers.Flatten())\n",
        "model.add(layers.Dropout(0.5))  # افزودن لایه Dropout برای رégularisation\n",
        "model.add(layers.Dense(64, activation='relu'))\n",
        "model.add(layers.Dense(10, activation='softmax'))\n",
        "\n",
        "model.compile(optimizer='adam',\n",
        "              loss=losses.sparse_categorical_crossentropy,\n",
        "              metrics=['accuracy'])\n",
        "\n",
        "model.summary()\n",
        "\n",
        "# تعریف کالبک Early Stopping\n",
        "early_stopping = callbacks.EarlyStopping(monitor='val_loss', patience=3)\n",
        "\n",
        "# آموزش مدل با استفاده از Early Stopping\n",
        "history = model.fit(train_images, train_labels, epochs=20, validation_data=(test_images, test_labels),\n",
        "                    callbacks=[early_stopping])\n",
        "\n",
        "test_loss, test_acc = model.evaluate(test_images, test_labels, verbose=2)\n",
        "print('دقت روی مجموعه آزمایشی:', test_acc)"
      ]
    }
  ]
}