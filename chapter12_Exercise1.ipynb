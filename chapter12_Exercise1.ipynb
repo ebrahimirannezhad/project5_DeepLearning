{
  "nbformat": 4,
  "nbformat_minor": 0,
  "metadata": {
    "colab": {
      "provenance": []
    },
    "kernelspec": {
      "name": "python3",
      "display_name": "Python 3"
    },
    "language_info": {
      "name": "python"
    }
  },
  "cells": [
    {
      "cell_type": "code",
      "execution_count": 1,
      "metadata": {
        "colab": {
          "base_uri": "https://localhost:8080/"
        },
        "id": "lhusHlkOyzte",
        "outputId": "66c02bc1-e67b-4a5d-d07f-842eff17db26"
      },
      "outputs": [
        {
          "output_type": "stream",
          "name": "stdout",
          "text": [
            "Downloading data from https://storage.googleapis.com/tensorflow/tf-keras-datasets/train-labels-idx1-ubyte.gz\n",
            "29515/29515 [==============================] - 0s 0us/step\n",
            "Downloading data from https://storage.googleapis.com/tensorflow/tf-keras-datasets/train-images-idx3-ubyte.gz\n",
            "26421880/26421880 [==============================] - 0s 0us/step\n",
            "Downloading data from https://storage.googleapis.com/tensorflow/tf-keras-datasets/t10k-labels-idx1-ubyte.gz\n",
            "5148/5148 [==============================] - 0s 0us/step\n",
            "Downloading data from https://storage.googleapis.com/tensorflow/tf-keras-datasets/t10k-images-idx3-ubyte.gz\n",
            "4422102/4422102 [==============================] - 0s 0us/step\n",
            "Model: \"sequential\"\n",
            "_________________________________________________________________\n",
            " Layer (type)                Output Shape              Param #   \n",
            "=================================================================\n",
            " conv2d (Conv2D)             (None, 26, 26, 32)        320       \n",
            "                                                                 \n",
            " max_pooling2d (MaxPooling2D  (None, 13, 13, 32)       0         \n",
            " )                                                               \n",
            "                                                                 \n",
            " conv2d_1 (Conv2D)           (None, 11, 11, 64)        18496     \n",
            "                                                                 \n",
            " max_pooling2d_1 (MaxPooling  (None, 5, 5, 64)         0         \n",
            " 2D)                                                             \n",
            "                                                                 \n",
            " conv2d_2 (Conv2D)           (None, 3, 3, 128)         73856     \n",
            "                                                                 \n",
            " flatten (Flatten)           (None, 1152)              0         \n",
            "                                                                 \n",
            " dense (Dense)               (None, 64)                73792     \n",
            "                                                                 \n",
            " dense_1 (Dense)             (None, 10)                650       \n",
            "                                                                 \n",
            "=================================================================\n",
            "Total params: 167,114\n",
            "Trainable params: 167,114\n",
            "Non-trainable params: 0\n",
            "_________________________________________________________________\n",
            "Epoch 1/10\n",
            "1875/1875 [==============================] - 45s 23ms/step - loss: 0.4827 - accuracy: 0.8220 - val_loss: 0.3570 - val_accuracy: 0.8689\n",
            "Epoch 2/10\n",
            "1875/1875 [==============================] - 43s 23ms/step - loss: 0.3114 - accuracy: 0.8871 - val_loss: 0.3005 - val_accuracy: 0.8915\n",
            "Epoch 3/10\n",
            "1875/1875 [==============================] - 42s 22ms/step - loss: 0.2618 - accuracy: 0.9046 - val_loss: 0.3054 - val_accuracy: 0.8895\n",
            "Epoch 4/10\n",
            "1875/1875 [==============================] - 43s 23ms/step - loss: 0.2321 - accuracy: 0.9140 - val_loss: 0.2830 - val_accuracy: 0.8977\n",
            "Epoch 5/10\n",
            "1875/1875 [==============================] - 42s 22ms/step - loss: 0.2043 - accuracy: 0.9229 - val_loss: 0.2498 - val_accuracy: 0.9100\n",
            "Epoch 6/10\n",
            "1875/1875 [==============================] - 43s 23ms/step - loss: 0.1817 - accuracy: 0.9323 - val_loss: 0.2625 - val_accuracy: 0.9078\n",
            "Epoch 7/10\n",
            "1875/1875 [==============================] - 42s 23ms/step - loss: 0.1655 - accuracy: 0.9377 - val_loss: 0.2725 - val_accuracy: 0.9120\n",
            "Epoch 8/10\n",
            "1875/1875 [==============================] - 42s 22ms/step - loss: 0.1471 - accuracy: 0.9457 - val_loss: 0.2741 - val_accuracy: 0.9076\n",
            "Epoch 9/10\n",
            "1875/1875 [==============================] - 43s 23ms/step - loss: 0.1304 - accuracy: 0.9509 - val_loss: 0.2852 - val_accuracy: 0.9093\n",
            "Epoch 10/10\n",
            "1875/1875 [==============================] - 42s 22ms/step - loss: 0.1176 - accuracy: 0.9551 - val_loss: 0.3014 - val_accuracy: 0.9081\n",
            "313/313 - 2s - loss: 0.3014 - accuracy: 0.9081 - 2s/epoch - 6ms/step\n",
            "دقت روی مجموعه آزمایشی: 0.9081000089645386\n"
          ]
        }
      ],
      "source": [
        "import tensorflow as tf\n",
        "from tensorflow.keras import datasets, layers, models, losses\n",
        "from tensorflow.keras.preprocessing.image import ImageDataGenerator\n",
        "\n",
        "# بارگیری مجموعه داده Fashion MNIST\n",
        "(train_images, train_labels), (test_images, test_labels) = datasets.fashion_mnist.load_data()\n",
        "\n",
        "# نرمال‌سازی مقادیر پیکسل‌ها\n",
        "train_images = train_images / 255.0\n",
        "test_images = test_images / 255.0\n",
        "\n",
        "# تغییر شکل تصاویر برای سازگاری با مدل CNN\n",
        "train_images = train_images.reshape((train_images.shape[0], 28, 28, 1))\n",
        "test_images = test_images.reshape((test_images.shape[0], 28, 28, 1))\n",
        "\n",
        "# سپس، یک مدل CNN جدید تعریف می‌کنیم و به آن اقدام به تنظیم می‌کنیم\n",
        "model = models.Sequential()\n",
        "model.add(layers.Conv2D(32, (3, 3), activation='relu', input_shape=(28, 28, 1)))\n",
        "model.add(layers.MaxPooling2D((2, 2)))\n",
        "model.add(layers.Conv2D(64, (3, 3), activation='relu'))\n",
        "model.add(layers.MaxPooling2D((2, 2)))\n",
        "model.add(layers.Conv2D(128, (3, 3), activation='relu'))\n",
        "model.add(layers.Flatten())\n",
        "model.add(layers.Dense(64, activation='relu'))\n",
        "model.add(layers.Dense(10, activation='softmax'))\n",
        "\n",
        "model.compile(optimizer='adam',\n",
        "              loss=losses.sparse_categorical_crossentropy,\n",
        "              metrics=['accuracy'])\n",
        "\n",
        "model.summary()\n",
        "\n",
        "model.fit(train_images, train_labels, epochs=10, validation_data=(test_images, test_labels))\n",
        "\n",
        "test_loss, test_acc = model.evaluate(test_images, test_labels, verbose=2)\n",
        "print('دقت روی مجموعه آزمایشی:', test_acc)"
      ]
    }
  ]
}